{
  "nbformat": 4,
  "nbformat_minor": 0,
  "metadata": {
    "colab": {
      "provenance": []
    },
    "kernelspec": {
      "name": "python3",
      "display_name": "Python 3"
    },
    "language_info": {
      "name": "python"
    }
  },
  "cells": [
    {
      "cell_type": "markdown",
      "source": [
        "**Task # 1: Include all necessary sympy modules**"
      ],
      "metadata": {
        "id": "X7cc_vnxzuTp"
      }
    },
    {
      "cell_type": "code",
      "execution_count": null,
      "metadata": {
        "id": "RWIU0_FRwDl3"
      },
      "outputs": [],
      "source": [
        "import sympy as sp\n",
        "from IPython.display import display\n",
        "sp.init_printing()"
      ]
    },
    {
      "cell_type": "markdown",
      "source": [
        "**Task #2: Solve for the following**\n",
        "\n",
        "\n",
        "\n",
        "- $\\frac{5}{3} + \\frac{\\sqrt{10}}{2}$\n",
        "- $\\sqrt{50} \\times \\sqrt{\\frac{5}{9}}$"
      ],
      "metadata": {
        "id": "LFSoyk2o0D0E"
      }
    },
    {
      "cell_type": "markdown",
      "source": [
        "Problem 1:"
      ],
      "metadata": {
        "id": "rjNvRRLg0aWS"
      }
    },
    {
      "cell_type": "code",
      "source": [
        "expr1 = sp.Rational(5, 3) + sp.sqrt(10)/2\n",
        "display(expr1)"
      ],
      "metadata": {
        "colab": {
          "base_uri": "https://localhost:8080/",
          "height": 55
        },
        "id": "C6wrzqoOzUgw",
        "outputId": "9374de3c-789d-4197-fe70-292790bee515"
      },
      "execution_count": null,
      "outputs": [
        {
          "output_type": "display_data",
          "data": {
            "text/plain": [
              "√10   5\n",
              "─── + ─\n",
              " 2    3"
            ],
            "text/latex": "$\\displaystyle \\frac{\\sqrt{10}}{2} + \\frac{5}{3}$"
          },
          "metadata": {}
        }
      ]
    },
    {
      "cell_type": "markdown",
      "source": [
        "Problem 2:"
      ],
      "metadata": {
        "id": "MwpUbbPx0b3X"
      }
    },
    {
      "cell_type": "code",
      "source": [
        "expr2 = sp.sqrt(50) * sp.sqrt(sp.Rational(5, 9))\n",
        "display(expr2)"
      ],
      "metadata": {
        "colab": {
          "base_uri": "https://localhost:8080/",
          "height": 55
        },
        "id": "_h6hmaEnzWRN",
        "outputId": "f6ff9ee2-317f-4b78-8ec4-2af6cc56cc02"
      },
      "execution_count": null,
      "outputs": [
        {
          "output_type": "display_data",
          "data": {
            "text/plain": [
              "5⋅√10\n",
              "─────\n",
              "  3  "
            ],
            "text/latex": "$\\displaystyle \\frac{5 \\sqrt{10}}{3}$"
          },
          "metadata": {}
        }
      ]
    },
    {
      "cell_type": "markdown",
      "source": [
        "**Task #3: Create the equation for the following using Symbols**\n",
        "\n",
        "- $2x+3y=12$\n",
        "- $x−y=4$"
      ],
      "metadata": {
        "id": "YjTQhswN0gVG"
      }
    },
    {
      "cell_type": "markdown",
      "source": [
        "Problem 1:"
      ],
      "metadata": {
        "id": "8HoJAD3U0uZH"
      }
    },
    {
      "cell_type": "code",
      "source": [
        "x, y = sp.symbols('x y')\n",
        "\n",
        "eq1 = sp.Eq(2*x + 3*y, 12)\n",
        "display(eq1)"
      ],
      "metadata": {
        "colab": {
          "base_uri": "https://localhost:8080/",
          "height": 39
        },
        "id": "TC_OQK1jz9rh",
        "outputId": "ec16e7ba-0051-45e3-c011-a1c38be75295"
      },
      "execution_count": null,
      "outputs": [
        {
          "output_type": "display_data",
          "data": {
            "text/plain": [
              "2⋅x + 3⋅y = 12"
            ],
            "text/latex": "$\\displaystyle 2 x + 3 y = 12$"
          },
          "metadata": {}
        }
      ]
    },
    {
      "cell_type": "markdown",
      "source": [
        "Problem 2:"
      ],
      "metadata": {
        "id": "_7ZBFbyz0yMH"
      }
    },
    {
      "cell_type": "code",
      "source": [
        "x, y = sp.symbols('x y')\n",
        "\n",
        "eq2 = sp.Eq(x - y, 4)\n",
        "display(eq2)"
      ],
      "metadata": {
        "colab": {
          "base_uri": "https://localhost:8080/",
          "height": 39
        },
        "id": "UWUC7ewP0zMS",
        "outputId": "0b37f344-8f81-47b3-d5e0-2231f2dace35"
      },
      "execution_count": null,
      "outputs": [
        {
          "output_type": "display_data",
          "data": {
            "text/plain": [
              "x - y = 4"
            ],
            "text/latex": "$\\displaystyle x - y = 4$"
          },
          "metadata": {}
        }
      ]
    },
    {
      "cell_type": "markdown",
      "source": [
        "**Task #4: Simplification**"
      ],
      "metadata": {
        "id": "BWRbm4_-2KOv"
      }
    },
    {
      "cell_type": "markdown",
      "source": [
        "Problem 1:"
      ],
      "metadata": {
        "id": "Klcdla_I38ZX"
      }
    },
    {
      "cell_type": "code",
      "source": [
        "x = sp.symbols('x')\n",
        "\n",
        "expr1 = (x**2 + 2*x + 1) / (x + 1)\n",
        "simplified1 = sp.simplify(expr1)\n",
        "\n",
        "display(expr1, simplified1)"
      ],
      "metadata": {
        "colab": {
          "base_uri": "https://localhost:8080/",
          "height": 77
        },
        "id": "eTEp5S_4074E",
        "outputId": "f5ce3fd9-d59b-467d-a56c-20638aa22878"
      },
      "execution_count": null,
      "outputs": [
        {
          "output_type": "display_data",
          "data": {
            "text/plain": [
              " 2          \n",
              "x  + 2⋅x + 1\n",
              "────────────\n",
              "   x + 1    "
            ],
            "text/latex": "$\\displaystyle \\frac{x^{2} + 2 x + 1}{x + 1}$"
          },
          "metadata": {}
        },
        {
          "output_type": "display_data",
          "data": {
            "text/plain": [
              "x + 1"
            ],
            "text/latex": "$\\displaystyle x + 1$"
          },
          "metadata": {}
        }
      ]
    },
    {
      "cell_type": "markdown",
      "source": [
        "Problem 2:"
      ],
      "metadata": {
        "id": "6vmqb7eW3-rX"
      }
    },
    {
      "cell_type": "code",
      "source": [
        "x = sp.symbols('x')\n",
        "\n",
        "expr2 = (1 - 1 / (1 + 1/x)) / (1 + 1/x)\n",
        "simplified2 = sp.simplify(expr2)\n",
        "\n",
        "display(expr2, simplified2)"
      ],
      "metadata": {
        "colab": {
          "base_uri": "https://localhost:8080/",
          "height": 104
        },
        "id": "Zd1bXWfQ2TZb",
        "outputId": "16b4d4e9-a03e-427e-ea7b-aee76996ee78"
      },
      "execution_count": null,
      "outputs": [
        {
          "output_type": "display_data",
          "data": {
            "text/plain": [
              "      1  \n",
              "1 - ─────\n",
              "        1\n",
              "    1 + ─\n",
              "        x\n",
              "─────────\n",
              "      1  \n",
              "  1 + ─  \n",
              "      x  "
            ],
            "text/latex": "$\\displaystyle \\frac{1 - \\frac{1}{1 + \\frac{1}{x}}}{1 + \\frac{1}{x}}$"
          },
          "metadata": {}
        },
        {
          "output_type": "display_data",
          "data": {
            "text/plain": [
              "   x    \n",
              "────────\n",
              "       2\n",
              "(x + 1) "
            ],
            "text/latex": "$\\displaystyle \\frac{x}{\\left(x + 1\\right)^{2}}$"
          },
          "metadata": {}
        }
      ]
    },
    {
      "cell_type": "markdown",
      "source": [
        "**Task #5: Expansion**"
      ],
      "metadata": {
        "id": "SeSAM3Tw4Abe"
      }
    },
    {
      "cell_type": "markdown",
      "source": [
        "Problem 1:"
      ],
      "metadata": {
        "id": "7atx8eTO4FDg"
      }
    },
    {
      "cell_type": "code",
      "source": [
        "x, y = sp.symbols('x y')\n",
        "\n",
        "expr1 = (2*x + 2)**2\n",
        "expanded1 = sp.expand(expr1)\n",
        "\n",
        "display(expr1, expanded1)"
      ],
      "metadata": {
        "colab": {
          "base_uri": "https://localhost:8080/",
          "height": 62
        },
        "id": "jqRfPbFy2UVR",
        "outputId": "2791e9a7-d261-43b1-ae1d-bb5dca034495"
      },
      "execution_count": null,
      "outputs": [
        {
          "output_type": "display_data",
          "data": {
            "text/plain": [
              "         2\n",
              "(2⋅x + 2) "
            ],
            "text/latex": "$\\displaystyle \\left(2 x + 2\\right)^{2}$"
          },
          "metadata": {}
        },
        {
          "output_type": "display_data",
          "data": {
            "text/plain": [
              "   2          \n",
              "4⋅x  + 8⋅x + 4"
            ],
            "text/latex": "$\\displaystyle 4 x^{2} + 8 x + 4$"
          },
          "metadata": {}
        }
      ]
    },
    {
      "cell_type": "markdown",
      "source": [
        "Problem 2:"
      ],
      "metadata": {
        "id": "1aAvqFDn4GOh"
      }
    },
    {
      "cell_type": "code",
      "source": [
        "x, y = sp.symbols('x y')\n",
        "\n",
        "expr2 = (2*x + y)*(x - 2*y)\n",
        "expanded2 = sp.expand(expr2)\n",
        "\n",
        "display(expr2, expanded2)"
      ],
      "metadata": {
        "colab": {
          "base_uri": "https://localhost:8080/",
          "height": 61
        },
        "id": "4e3Yi1b94G_C",
        "outputId": "d05ad7ed-2f3c-44dc-f7a5-c295292a6962"
      },
      "execution_count": null,
      "outputs": [
        {
          "output_type": "display_data",
          "data": {
            "text/plain": [
              "(x - 2⋅y)⋅(2⋅x + y)"
            ],
            "text/latex": "$\\displaystyle \\left(x - 2 y\\right) \\left(2 x + y\\right)$"
          },
          "metadata": {}
        },
        {
          "output_type": "display_data",
          "data": {
            "text/plain": [
              "   2              2\n",
              "2⋅x  - 3⋅x⋅y - 2⋅y "
            ],
            "text/latex": "$\\displaystyle 2 x^{2} - 3 x y - 2 y^{2}$"
          },
          "metadata": {}
        }
      ]
    },
    {
      "cell_type": "code",
      "source": [],
      "metadata": {
        "id": "ZZBtygJJ4STf"
      },
      "execution_count": null,
      "outputs": []
    }
  ]
}